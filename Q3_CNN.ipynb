{
  "cells": [
    {
      "cell_type": "markdown",
      "metadata": {
        "id": "view-in-github",
        "colab_type": "text"
      },
      "source": [
        "<a href=\"https://colab.research.google.com/github/abhishekv23/EE954-DL/blob/main/Q3_CNN.ipynb\" target=\"_parent\"><img src=\"https://colab.research.google.com/assets/colab-badge.svg\" alt=\"Open In Colab\"/></a>"
      ]
    },
    {
      "cell_type": "markdown",
      "id": "07b36e45",
      "metadata": {
        "id": "07b36e45"
      },
      "source": [
        "# Implement a CNN backbone model using pytorch. (total 40 marks)"
      ]
    },
    {
      "cell_type": "markdown",
      "id": "35b5d3b5",
      "metadata": {
        "id": "35b5d3b5"
      },
      "source": [
        "### a. Build a small CNN model consisting of\n",
        "- 5 convolution Layers with each layer:\n",
        "1. Convolution layer\n",
        "2. ReLU activation\n",
        "3. Max pooling layer\n",
        "\n",
        "(10 Marks )"
      ]
    },
    {
      "cell_type": "code",
      "execution_count": 2,
      "id": "763d26d0",
      "metadata": {
        "id": "763d26d0"
      },
      "outputs": [],
      "source": [
        "#import libraries\n",
        "import numpy as np\n",
        "import torch\n",
        "import torch.nn as nn\n",
        "import torch.nn.functional as F"
      ]
    },
    {
      "cell_type": "code",
      "execution_count": 3,
      "id": "5b6fc919",
      "metadata": {
        "id": "5b6fc919"
      },
      "outputs": [],
      "source": [
        "from torchvision import datasets\n",
        "from torchvision.transforms import ToTensor, transforms\n",
        "from torch.utils.data import DataLoader"
      ]
    },
    {
      "cell_type": "code",
      "source": [
        "import matplotlib.pyplot as plt\n",
        "%matplotlib inline"
      ],
      "metadata": {
        "id": "o9ZoOmzGy8wk"
      },
      "id": "o9ZoOmzGy8wk",
      "execution_count": 4,
      "outputs": []
    },
    {
      "cell_type": "code",
      "execution_count": 5,
      "id": "9f9b9a6a",
      "metadata": {
        "id": "9f9b9a6a"
      },
      "outputs": [],
      "source": [
        "def FMNIST_DataLoader():\n",
        "  #load MNIST data\n",
        "  transform = transforms.Compose([\n",
        "    transforms.ToTensor(),\n",
        "    #transforms.Normalize((0.5,), (0.5,))\n",
        "  ])\n",
        "  train_data = datasets.FashionMNIST(root='data', train=True, download=True, transform=transform)\n",
        "  test_data = datasets.FashionMNIST(root='data', train=False, download=True, transform=transform)\n",
        "  train_dataloader = DataLoader(train_data, batch_size=32, shuffle=True)\n",
        "  test_dataloader = DataLoader(test_data, batch_size=32, shuffle=False)\n",
        "  return train_dataloader, test_dataloader"
      ]
    },
    {
      "cell_type": "code",
      "execution_count": null,
      "id": "c1f430c9",
      "metadata": {
        "id": "c1f430c9"
      },
      "outputs": [],
      "source": [
        "#DEBUG:: no need to execute\n",
        "print(train_data.train_labels)\n",
        "print(train_data.data[0])\n",
        "train_data.train_data"
      ]
    },
    {
      "cell_type": "code",
      "execution_count": null,
      "id": "56f71308",
      "metadata": {
        "id": "56f71308"
      },
      "outputs": [],
      "source": [
        "#DEBUG:: no need to execute\n",
        "x_train = train_data.data/255\n",
        "x_test = test_data.data/255\n",
        "y_train = train_data.targets\n",
        "y_test = test_data.targets"
      ]
    },
    {
      "cell_type": "code",
      "execution_count": null,
      "id": "3854dd10",
      "metadata": {
        "id": "3854dd10"
      },
      "outputs": [],
      "source": [
        "#DEBUG:: no need to execute\n",
        "(x_train, x_valid) = x_train[10000:], x_train[:10000]\n",
        "(y_train, y_valid) = y_train[10000:], y_train[:10000]\n",
        "y_train"
      ]
    },
    {
      "cell_type": "code",
      "execution_count": null,
      "id": "1018741e",
      "metadata": {
        "id": "1018741e"
      },
      "outputs": [],
      "source": [
        "#DEBUG:: no need to execute\n",
        "a = np.array(y_train)\n",
        "b = np.zeros((a.size, a.max() + 1))\n",
        "b[np.arange(a.size), a] = 1\n",
        "b"
      ]
    },
    {
      "cell_type": "code",
      "execution_count": null,
      "id": "ff0ecdaa",
      "metadata": {
        "id": "ff0ecdaa"
      },
      "outputs": [],
      "source": [
        "#DEBUG:: no need to execute\n",
        "a1 = np.array(y_valid)\n",
        "b1 = np.zeros((a1.size, a1.max() + 1))\n",
        "b1[np.arange(a1.size), a1] = 1\n",
        "y_train = torch.tensor(b)\n",
        "y_valid = torch.tensor(b1)\n",
        "y_valid"
      ]
    },
    {
      "cell_type": "code",
      "execution_count": 6,
      "id": "42a544c8",
      "metadata": {
        "id": "42a544c8"
      },
      "outputs": [],
      "source": [
        "class CNN_Model(nn.Module):\n",
        "\n",
        "    #define init function\n",
        "    def __init__(self):\n",
        "        super(CNN_Model, self).__init__()\n",
        "\n",
        "        #input size. 28 channel - 1,\n",
        "        #32 - output channel from this layer,\n",
        "        #square kerner of size 3.\n",
        "        #stride defaults to 1 and padding to 0.\n",
        "        self.layer1_conv = nn.Conv2d(1, 16, 2, padding=1)\n",
        "\n",
        "        self.layer1_activ = nn.ReLU()\n",
        "        self.layer1_maxpool = nn.MaxPool2d(2, stride=1) #2x2 kernel\n",
        "\n",
        "        #layer 2, input size\n",
        "        self.layer2_conv = nn.Conv2d(16, 32, 2, padding=1)\n",
        "        self.layer2_activ = nn.ReLU()\n",
        "        self.layer2_maxpool = nn.MaxPool2d(2, stride=1)\n",
        "        #layer 3\n",
        "        self.layer3_conv = nn.Conv2d(32, 64, 2, padding=1)\n",
        "        self.layer3_activ = nn.ReLU()\n",
        "        self.layer3_maxpool = nn.MaxPool2d(2, stride=2) #14x14x64\n",
        "        #layer 4\n",
        "        self.layer4_conv = nn.Conv2d(64, 128, 2, padding=1)\n",
        "        self.layer4_activ = nn.ReLU()\n",
        "        self.layer4_maxpool = nn.MaxPool2d(2, stride=2) #7x7x128\n",
        "        #layer 5\n",
        "        self.layer5_conv = nn.Conv2d(128, 128, 2, padding=1)\n",
        "        self.layer5_activ = nn.ReLU()\n",
        "        self.layer5_maxpool = nn.MaxPool2d(2, stride=2) #4x4x256\n",
        "        #Dense layer, input size=256*\n",
        "\n",
        "        self.dense1 = nn.Linear(2048, 20)\n",
        "        #output layer\n",
        "        self.out = nn.Linear(20, 10)\n",
        "\n",
        "    def forward(self, x):\n",
        "\n",
        "        #pass data x through 1st layer\n",
        "        x = self.layer1_conv(x)\n",
        "        #print(f\"shape of data after layer1_conv: {x.shape}\")\n",
        "        x = self.layer1_activ(x)\n",
        "        x = self.layer1_maxpool(x)\n",
        "        #print(f\"shape of data after layer1_maxpool: {x.shape}\")\n",
        "\n",
        "        #pass data through 2nd layer\n",
        "        x = self.layer2_conv(x)\n",
        "        #print(f\"shape of data after layer2_conv: {x.shape}\")\n",
        "        x = self.layer2_activ(x)\n",
        "        x = self.layer2_maxpool(x)\n",
        "        #print(f\"shape of data after layer2_maxpool: {x.shape}\")\n",
        "\n",
        "        #pass data through 3rd layer\n",
        "        x = self.layer3_conv(x)\n",
        "        #print(f\"shape of data after layer3_conv: {x.shape}\")\n",
        "        x = self.layer3_activ(x)\n",
        "        x = self.layer3_maxpool(x)\n",
        "        #print(f\"shape of data after layer3_maxpool: {x.shape}\")\n",
        "\n",
        "        #pass data through 4th layer\n",
        "        x = self.layer4_conv(x)\n",
        "        #print(f\"shape of data after layer4_conv: {x.shape}\")\n",
        "        x = self.layer4_activ(x)\n",
        "        x = self.layer4_maxpool(x)\n",
        "        #print(f\"shape of data after layer4_maxpool: {x.shape}\")\n",
        "\n",
        "        #pass data through 5th layer\n",
        "        x = self.layer5_conv(x)\n",
        "        #print(f\"shape of data after layer5_conv: {x.shape}\")\n",
        "        x = self.layer5_activ(x)\n",
        "        x = self.layer5_maxpool(x)\n",
        "        #print(f\"shape of data after layer5_maxpool: {x.shape}\")\n",
        "        #print(len(x[1]))\n",
        "        #print(len(x[1][1]))\n",
        "        #print(len(x[1][1][1]))\n",
        "\n",
        "        #flatten\n",
        "        x = x.view(-1, 128*4*4)\n",
        "\n",
        "        #x = self.flatten = torch.flatten(x)\n",
        "        #This method will return flattened data that will be passed to Dense layer from Q2\n",
        "        #following 2 lines will be commented after testing.\n",
        "        #print(f\"shape of data after flatten: {x.shape}\")\n",
        "        x = self.dense1(x)\n",
        "        x = self.out(x)\n",
        "        return x"
      ]
    },
    {
      "cell_type": "markdown",
      "source": [
        "**Invoke dense layer NN**"
      ],
      "metadata": {
        "id": "hGruZe63pExn"
      },
      "id": "hGruZe63pExn"
    },
    {
      "cell_type": "code",
      "execution_count": 64,
      "id": "5081fc35",
      "metadata": {
        "id": "5081fc35",
        "colab": {
          "base_uri": "https://localhost:8080/"
        },
        "outputId": "69115eec-ceae-49cb-f7a5-29d0ff04b0aa"
      },
      "outputs": [
        {
          "output_type": "stream",
          "name": "stdout",
          "text": [
            "tensor([[-0.1107,  0.0247,  0.0576,  0.2010, -0.0446, -0.1989,  0.1606,  0.1542,\n",
            "         -0.1269,  0.1219],\n",
            "        [-0.1110,  0.0247,  0.0583,  0.2016, -0.0447, -0.1989,  0.1596,  0.1554,\n",
            "         -0.1266,  0.1221],\n",
            "        [-0.1107,  0.0243,  0.0579,  0.2012, -0.0443, -0.1995,  0.1613,  0.1554,\n",
            "         -0.1272,  0.1212],\n",
            "        [-0.1105,  0.0242,  0.0581,  0.2018, -0.0447, -0.1998,  0.1604,  0.1555,\n",
            "         -0.1266,  0.1211],\n",
            "        [-0.1102,  0.0244,  0.0582,  0.2017, -0.0447, -0.1994,  0.1603,  0.1546,\n",
            "         -0.1267,  0.1215],\n",
            "        [-0.1106,  0.0245,  0.0582,  0.2014, -0.0442, -0.1992,  0.1595,  0.1551,\n",
            "         -0.1269,  0.1213],\n",
            "        [-0.1107,  0.0250,  0.0576,  0.2013, -0.0444, -0.1998,  0.1604,  0.1546,\n",
            "         -0.1267,  0.1212],\n",
            "        [-0.1100,  0.0242,  0.0583,  0.2020, -0.0449, -0.1993,  0.1605,  0.1553,\n",
            "         -0.1257,  0.1218],\n",
            "        [-0.1104,  0.0239,  0.0575,  0.2017, -0.0438, -0.1995,  0.1610,  0.1552,\n",
            "         -0.1263,  0.1222],\n",
            "        [-0.1108,  0.0252,  0.0583,  0.2015, -0.0452, -0.1984,  0.1596,  0.1555,\n",
            "         -0.1263,  0.1219],\n",
            "        [-0.1108,  0.0243,  0.0582,  0.2010, -0.0446, -0.1991,  0.1600,  0.1551,\n",
            "         -0.1265,  0.1217],\n",
            "        [-0.1105,  0.0245,  0.0580,  0.2010, -0.0440, -0.1989,  0.1607,  0.1553,\n",
            "         -0.1267,  0.1222],\n",
            "        [-0.1104,  0.0247,  0.0579,  0.2014, -0.0448, -0.1990,  0.1602,  0.1549,\n",
            "         -0.1260,  0.1218],\n",
            "        [-0.1100,  0.0244,  0.0580,  0.2014, -0.0451, -0.1987,  0.1593,  0.1552,\n",
            "         -0.1265,  0.1212],\n",
            "        [-0.1108,  0.0249,  0.0583,  0.2011, -0.0447, -0.1992,  0.1597,  0.1547,\n",
            "         -0.1264,  0.1220],\n",
            "        [-0.1104,  0.0256,  0.0581,  0.2013, -0.0452, -0.1992,  0.1598,  0.1543,\n",
            "         -0.1273,  0.1211],\n",
            "        [-0.1107,  0.0248,  0.0582,  0.2008, -0.0448, -0.1994,  0.1605,  0.1554,\n",
            "         -0.1262,  0.1216],\n",
            "        [-0.1113,  0.0241,  0.0581,  0.2017, -0.0438, -0.1995,  0.1603,  0.1556,\n",
            "         -0.1263,  0.1222],\n",
            "        [-0.1108,  0.0248,  0.0579,  0.2009, -0.0445, -0.1993,  0.1600,  0.1552,\n",
            "         -0.1268,  0.1218],\n",
            "        [-0.1105,  0.0245,  0.0573,  0.2013, -0.0446, -0.1990,  0.1602,  0.1549,\n",
            "         -0.1260,  0.1220],\n",
            "        [-0.1113,  0.0242,  0.0576,  0.2011, -0.0437, -0.1986,  0.1605,  0.1561,\n",
            "         -0.1272,  0.1221],\n",
            "        [-0.1092,  0.0248,  0.0587,  0.2020, -0.0444, -0.1986,  0.1594,  0.1547,\n",
            "         -0.1265,  0.1217],\n",
            "        [-0.1110,  0.0229,  0.0577,  0.2014, -0.0444, -0.1991,  0.1598,  0.1554,\n",
            "         -0.1261,  0.1225],\n",
            "        [-0.1106,  0.0243,  0.0582,  0.2007, -0.0445, -0.1984,  0.1607,  0.1558,\n",
            "         -0.1260,  0.1223],\n",
            "        [-0.1113,  0.0248,  0.0575,  0.2010, -0.0450, -0.1998,  0.1607,  0.1549,\n",
            "         -0.1266,  0.1212],\n",
            "        [-0.1105,  0.0245,  0.0582,  0.2013, -0.0447, -0.1990,  0.1605,  0.1553,\n",
            "         -0.1261,  0.1219],\n",
            "        [-0.1101,  0.0243,  0.0581,  0.2009, -0.0447, -0.1996,  0.1607,  0.1553,\n",
            "         -0.1261,  0.1215],\n",
            "        [-0.1102,  0.0249,  0.0583,  0.2011, -0.0444, -0.1991,  0.1604,  0.1546,\n",
            "         -0.1269,  0.1217],\n",
            "        [-0.1113,  0.0249,  0.0581,  0.2013, -0.0444, -0.1992,  0.1609,  0.1562,\n",
            "         -0.1264,  0.1218],\n",
            "        [-0.1107,  0.0240,  0.0571,  0.2015, -0.0442, -0.1993,  0.1601,  0.1551,\n",
            "         -0.1267,  0.1215],\n",
            "        [-0.1113,  0.0243,  0.0574,  0.2014, -0.0439, -0.1991,  0.1604,  0.1549,\n",
            "         -0.1267,  0.1221],\n",
            "        [-0.1108,  0.0252,  0.0578,  0.2009, -0.0444, -0.1991,  0.1604,  0.1547,\n",
            "         -0.1271,  0.1215]], grad_fn=<AddmmBackward0>)\n"
          ]
        }
      ],
      "source": [
        "#DEBUG:: no need to execute\n",
        "#Returns a tensor filled with random numbers from a uniform distribution on the interval [0, 1)\n",
        "random_data = torch.rand((32, 1, 28, 28))\n",
        "\n",
        "cnn_model = CNN_Model()\n",
        "\n",
        "output_data = cnn_model(random_data)\n",
        "print (output_data)\n"
      ]
    },
    {
      "cell_type": "code",
      "execution_count": 66,
      "id": "13f88473",
      "metadata": {
        "id": "13f88473",
        "colab": {
          "base_uri": "https://localhost:8080/"
        },
        "outputId": "b633e15b-01aa-4261-97c6-3a12e6cd792a"
      },
      "outputs": [
        {
          "output_type": "stream",
          "name": "stdout",
          "text": [
            "layer1_conv.weight 64\n",
            "layer1_conv.bias 16\n",
            "layer2_conv.weight 2048\n",
            "layer2_conv.bias 32\n",
            "layer3_conv.weight 8192\n",
            "layer3_conv.bias 64\n",
            "layer4_conv.weight 32768\n",
            "layer4_conv.bias 128\n",
            "layer5_conv.weight 65536\n",
            "layer5_conv.bias 128\n",
            "dense1.weight 40960\n",
            "dense1.bias 20\n",
            "out.weight 200\n",
            "out.bias 10\n",
            "Total trainable parameters 150166\n"
          ]
        }
      ],
      "source": [
        "#DEBUG:: no need to execute\n",
        "trainable_param = 0\n",
        "\n",
        "for name, param in cnn_model.named_parameters():\n",
        "    print(name, param.numel())\n",
        "    trainable_param += param.numel()\n",
        "\n",
        "print(f\"Total trainable parameters {trainable_param}\")"
      ]
    },
    {
      "cell_type": "code",
      "execution_count": null,
      "id": "96a22562",
      "metadata": {
        "id": "96a22562"
      },
      "outputs": [],
      "source": [
        "#DEBUG:: no need to execute\n",
        "for name, param in cnn_model.named_parameters():\n",
        "    print(f\"Layer: {name} | Size: {param.size()} | Values : {param[:2]} \\n\")"
      ]
    },
    {
      "cell_type": "markdown",
      "id": "3fb40cba",
      "metadata": {
        "id": "3fb40cba"
      },
      "source": [
        "### b. Experiment with different kernel size, number of kernel each layer (10 Marks)\n",
        "(keep number of filter same in each layer, double it in each layer etc) and settle with a combination which performs the best for the given problem."
      ]
    },
    {
      "cell_type": "code",
      "execution_count": 60,
      "id": "f13a7db3",
      "metadata": {
        "id": "f13a7db3"
      },
      "outputs": [],
      "source": [
        "#Train the model\n",
        "def cnn_model_train(train_dataloader, cnn_model, loss_func, optimizer):\n",
        "    train_data_size = len(train_dataloader.dataset)\n",
        "    batch_size = 32\n",
        "    train_losses = 0\n",
        "    train_correct = 0\n",
        "\n",
        "    #set the model to training mode\n",
        "    cnn_model.train()\n",
        "\n",
        "    train_c = 0\n",
        "\n",
        "    for batch, (x_train, y_train) in enumerate(train_dataloader):\n",
        "      batch = batch+1\n",
        "      y_predict = cnn_model(x_train)\n",
        "      loss = loss_func(y_predict, y_train)\n",
        "\n",
        "      #backpropagate the prediction loss\n",
        "      loss.backward()\n",
        "      #adjust the parameters\n",
        "      optimizer.step()\n",
        "      #to reset the gradients of model parameters. Gradients by default add up;\n",
        "      #to prevent double-counting, we explicitly zero them at each iteration.\n",
        "      optimizer.zero_grad()\n",
        "\n",
        "      loss = loss.item()\n",
        "      #printout training metrics after batch of 100\n",
        "      if batch % 100 ==0:\n",
        "        loss, current = loss, batch * batch_size + len(x_train)\n",
        "        print(f\"loss: {loss:>7f}  [{current:>5d}/{train_data_size:>5d}]\")\n",
        "\n",
        "      train_losses += loss\n",
        "    return train_losses, train_correct"
      ]
    },
    {
      "cell_type": "code",
      "execution_count": 61,
      "id": "114ab6ae",
      "metadata": {
        "id": "114ab6ae"
      },
      "outputs": [],
      "source": [
        "#Test the model\n",
        "def cnn_model_test(test_dataloader, cnn_model, loss_func):\n",
        "    #set the model to evaluation (important for BN and Dropout layers)\n",
        "    cnn_model.eval()\n",
        "    num_batches = len(test_dataloader)\n",
        "\n",
        "    #initialize\n",
        "    valid_losses = 0\n",
        "    valid_correct = 0\n",
        "    #ensure that no grad are computed during test mode\n",
        "    valid_c = 0\n",
        "    with torch.no_grad():\n",
        "        for batch, (x_valid, y_valid) in enumerate(test_dataloader):\n",
        "          batch = batch+1\n",
        "          predict = cnn_model(x_valid)\n",
        "\n",
        "          #collect values for accuracy measurement\n",
        "          predicted = torch.max(predict.data, 1)[1]\n",
        "          batch_c = (predicted == y_valid).sum()\n",
        "          valid_c += batch_c\n",
        "\n",
        "          valid_loss = loss_func(predict, y_valid)\n",
        "          valid_loss = valid_loss.item()\n",
        "          if batch % 100 ==0:\n",
        "            #valid_loss = valid_loss/num_batches\n",
        "\n",
        "\n",
        "            print(f\"Test loss: {valid_loss}\")\n",
        "\n",
        "          valid_losses += valid_loss\n",
        "          #valid_correct.append(valid_c)\n",
        "    return valid_losses, valid_correct"
      ]
    },
    {
      "cell_type": "code",
      "source": [
        "# Plot training and validation loss\n",
        "def plot_losses(train_loss, valid_loss):\n",
        "  fig,ax = plt.subplots(1,2,figsize=(16,5))\n",
        "\n",
        "  ax[0].plot(train_loss,'s-',label='Train')\n",
        "  ax[0].plot(valid_loss,'o-',label='Test')\n",
        "  ax[0].set_xlabel('Epochs')\n",
        "  ax[0].set_ylabel('Loss')\n",
        "  ax[0].set_title('Model loss')\n",
        "\n",
        "  ax[0].legend()\n",
        "\n",
        "  plt.show()"
      ],
      "metadata": {
        "id": "2Di5_4iHozbv"
      },
      "id": "2Di5_4iHozbv",
      "execution_count": 47,
      "outputs": []
    },
    {
      "cell_type": "code",
      "execution_count": 48,
      "id": "8b36deaf",
      "metadata": {
        "scrolled": false,
        "id": "8b36deaf"
      },
      "outputs": [],
      "source": [
        "train_dataloader, test_dataloader = FMNIST_DataLoader()\n",
        "loss_func = nn.CrossEntropyLoss()"
      ]
    },
    {
      "cell_type": "markdown",
      "id": "16347005",
      "metadata": {
        "id": "16347005"
      },
      "source": [
        "### c. Try different weight initialization methods (random, Xavier, He) (5 Marks)"
      ]
    },
    {
      "cell_type": "code",
      "source": [
        "#instantiate the model\n",
        "cnn_model_xavier = CNN_Model()\n",
        "for param in cnn_model_xavier.named_parameters():\n",
        "    print(\"PARAM0:\",param[0])\n",
        "    print(\"PARAM1:\",param[1])\n",
        "    if 'weight' in param[0]:\n",
        "        torch.nn.init.xavier_normal_(param[1].data)\n",
        "\n",
        "# Train new instance of the model\n",
        "\n",
        "# Test the new instance of the model\n"
      ],
      "metadata": {
        "id": "B--omnNJdASZ"
      },
      "id": "B--omnNJdASZ",
      "execution_count": null,
      "outputs": []
    },
    {
      "cell_type": "code",
      "source": [],
      "metadata": {
        "id": "KbHGCeFrl_MS"
      },
      "id": "KbHGCeFrl_MS",
      "execution_count": null,
      "outputs": []
    },
    {
      "cell_type": "markdown",
      "source": [
        "## initialize the weights using He algorithms, also called as Kaiming\n"
      ],
      "metadata": {
        "id": "xQhCE0N_mCur"
      },
      "id": "xQhCE0N_mCur"
    },
    {
      "cell_type": "code",
      "source": [
        "#instantiate the model\n",
        "cnn_model_he = CNN_Model()\n",
        "for param in cnn_model_he.named_parameters():\n",
        "    #print(\"PARAM0:\",param[0])\n",
        "    #print(\"PARAM1:\",param[1])\n",
        "    if 'weight' in param[0]:\n",
        "        #Parameter initialization logic\n",
        "        torch.nn.init.kaiming_normal_(param[1].data)\n",
        "\n",
        "# Train new instance of the model\n",
        "\n",
        "# Test the new instance of the model\n"
      ],
      "metadata": {
        "id": "sf9b3OSpl_Oi"
      },
      "id": "sf9b3OSpl_Oi",
      "execution_count": null,
      "outputs": []
    },
    {
      "cell_type": "markdown",
      "source": [
        "## Random initialization of weights"
      ],
      "metadata": {
        "id": "FuDX2vCTm2h1"
      },
      "id": "FuDX2vCTm2h1"
    },
    {
      "cell_type": "code",
      "execution_count": 62,
      "id": "ab435fd5",
      "metadata": {
        "id": "ab435fd5",
        "colab": {
          "base_uri": "https://localhost:8080/",
          "height": 1000
        },
        "outputId": "1152e4d0-47b6-4a29-e170-b702309ffd66"
      },
      "outputs": [
        {
          "output_type": "stream",
          "name": "stdout",
          "text": [
            "loss: 0.856926  [ 3232/60000]\n",
            "loss: 1.060295  [ 6432/60000]\n",
            "loss: 0.425475  [ 9632/60000]\n",
            "loss: 0.419732  [12832/60000]\n",
            "loss: 0.528840  [16032/60000]\n",
            "loss: 0.419583  [19232/60000]\n",
            "loss: 0.287202  [22432/60000]\n",
            "loss: 0.358793  [25632/60000]\n",
            "loss: 0.356629  [28832/60000]\n",
            "loss: 0.303120  [32032/60000]\n",
            "loss: 0.600545  [35232/60000]\n",
            "loss: 0.652662  [38432/60000]\n",
            "loss: 0.462954  [41632/60000]\n",
            "loss: 0.425283  [44832/60000]\n",
            "loss: 0.289425  [48032/60000]\n",
            "loss: 0.374675  [51232/60000]\n",
            "loss: 0.392389  [54432/60000]\n",
            "loss: 0.389957  [57632/60000]\n",
            "Test loss: 0.46755534410476685\n",
            "Test loss: 0.17700278759002686\n",
            "Test loss: 0.6104253530502319\n",
            "loss: 0.383966  [ 3232/60000]\n",
            "loss: 0.291635  [ 6432/60000]\n",
            "loss: 0.256499  [ 9632/60000]\n",
            "loss: 0.534039  [12832/60000]\n",
            "loss: 0.198725  [16032/60000]\n",
            "loss: 0.401679  [19232/60000]\n",
            "loss: 0.141586  [22432/60000]\n",
            "loss: 0.582999  [25632/60000]\n",
            "loss: 0.393746  [28832/60000]\n",
            "loss: 0.521403  [32032/60000]\n",
            "loss: 0.325295  [35232/60000]\n",
            "loss: 0.301805  [38432/60000]\n",
            "loss: 0.251345  [41632/60000]\n",
            "loss: 0.351582  [44832/60000]\n",
            "loss: 0.212114  [48032/60000]\n",
            "loss: 0.250028  [51232/60000]\n",
            "loss: 0.292183  [54432/60000]\n",
            "loss: 0.178167  [57632/60000]\n",
            "Test loss: 0.4107644259929657\n",
            "Test loss: 0.23095443844795227\n",
            "Test loss: 0.4532968997955322\n",
            "loss: 0.539434  [ 3232/60000]\n",
            "loss: 0.172089  [ 6432/60000]\n",
            "loss: 0.100477  [ 9632/60000]\n",
            "loss: 0.195680  [12832/60000]\n",
            "loss: 0.125541  [16032/60000]\n",
            "loss: 0.305326  [19232/60000]\n",
            "loss: 0.227854  [22432/60000]\n",
            "loss: 0.304220  [25632/60000]\n",
            "loss: 0.355002  [28832/60000]\n",
            "loss: 0.231990  [32032/60000]\n",
            "loss: 0.293823  [35232/60000]\n",
            "loss: 0.159926  [38432/60000]\n",
            "loss: 0.215662  [41632/60000]\n",
            "loss: 0.192882  [44832/60000]\n",
            "loss: 0.234839  [48032/60000]\n",
            "loss: 0.292363  [51232/60000]\n",
            "loss: 0.590867  [54432/60000]\n",
            "loss: 0.327364  [57632/60000]\n",
            "Test loss: 0.33694159984588623\n",
            "Test loss: 0.1799103170633316\n",
            "Test loss: 0.40997111797332764\n",
            "loss: 0.401720  [ 3232/60000]\n",
            "loss: 0.162809  [ 6432/60000]\n",
            "loss: 0.315540  [ 9632/60000]\n",
            "loss: 0.111300  [12832/60000]\n",
            "loss: 0.352746  [16032/60000]\n",
            "loss: 0.176800  [19232/60000]\n",
            "loss: 0.157838  [22432/60000]\n",
            "loss: 0.375423  [25632/60000]\n",
            "loss: 0.278880  [28832/60000]\n",
            "loss: 0.235502  [32032/60000]\n",
            "loss: 0.425970  [35232/60000]\n",
            "loss: 0.445353  [38432/60000]\n",
            "loss: 0.170515  [41632/60000]\n",
            "loss: 0.180651  [44832/60000]\n",
            "loss: 0.211595  [48032/60000]\n",
            "loss: 0.160793  [51232/60000]\n",
            "loss: 0.217189  [54432/60000]\n",
            "loss: 0.206990  [57632/60000]\n",
            "Test loss: 0.40214765071868896\n",
            "Test loss: 0.20314650237560272\n",
            "Test loss: 0.39268559217453003\n",
            "loss: 0.154853  [ 3232/60000]\n",
            "loss: 0.290792  [ 6432/60000]\n",
            "loss: 0.068922  [ 9632/60000]\n",
            "loss: 0.151650  [12832/60000]\n",
            "loss: 0.092188  [16032/60000]\n",
            "loss: 0.221108  [19232/60000]\n",
            "loss: 0.140641  [22432/60000]\n",
            "loss: 0.401137  [25632/60000]\n",
            "loss: 0.114166  [28832/60000]\n",
            "loss: 0.170677  [32032/60000]\n",
            "loss: 0.219003  [35232/60000]\n",
            "loss: 0.077327  [38432/60000]\n",
            "loss: 0.278193  [41632/60000]\n",
            "loss: 0.267085  [44832/60000]\n",
            "loss: 0.047633  [48032/60000]\n",
            "loss: 0.085636  [51232/60000]\n",
            "loss: 0.311772  [54432/60000]\n",
            "loss: 0.156900  [57632/60000]\n",
            "Test loss: 0.37566035985946655\n",
            "Test loss: 0.21456991136074066\n",
            "Test loss: 0.32115045189857483\n"
          ]
        },
        {
          "output_type": "display_data",
          "data": {
            "text/plain": [
              "<Figure size 1600x500 with 2 Axes>"
            ],
            "image/png": "[encoded data removed]"
          },
          "metadata": {}
        }
      ],
      "source": [
        "#start the training and validation loop\n",
        "epochs = 5\n",
        "cnn_model = CNN_Model()\n",
        "#Initialize Optimizer and Loss function\n",
        "optimizer = torch.optim.Adam(cnn_model.parameters(), lr=0.001)\n",
        "train_loss_arr = []\n",
        "valid_loss_ar = []\n",
        "for e in range(epochs):\n",
        "  train_loss, _ = cnn_model_train(train_dataloader, cnn_model, loss_func, optimizer)\n",
        "  valid_loss, _ = cnn_model_test(test_dataloader, cnn_model, loss_func)\n",
        "  train_loss_arr.append(train_loss)\n",
        "  valid_loss_ar.append(valid_loss)\n",
        "plot_losses(train_loss_arr, valid_loss_ar)\n",
        "\n"
      ]
    },
    {
      "cell_type": "markdown",
      "id": "3a97a475",
      "metadata": {
        "id": "3a97a475"
      },
      "source": [
        "### d. After extracting feature from CNN model use MLP for classification (15 Marks)"
      ]
    },
    {
      "cell_type": "code",
      "source": [
        "print(train_loss_arr, valid_loss_ar)"
      ],
      "metadata": {
        "colab": {
          "base_uri": "https://localhost:8080/"
        },
        "id": "n2xaomqksY0M",
        "outputId": "805b155b-f4b6-403f-f6e6-e83dea66b192"
      },
      "id": "n2xaomqksY0M",
      "execution_count": 63,
      "outputs": [
        {
          "output_type": "stream",
          "name": "stdout",
          "text": [
            "[944.0827988497913, 583.9280931390822, 506.31843541935086, 454.36409472860396, 411.74692314863205] [118.3339802660048, 96.27015553414822, 88.80176932364702, 78.62263197079301, 80.59887031652033]\n"
          ]
        }
      ]
    }
  ],
  "metadata": {
    "kernelspec": {
      "display_name": "Python 3 (ipykernel)",
      "language": "python",
      "name": "python3"
    },
    "language_info": {
      "codemirror_mode": {
        "name": "ipython",
        "version": 3
      },
      "file_extension": ".py",
      "mimetype": "text/x-python",
      "name": "python",
      "nbconvert_exporter": "python",
      "pygments_lexer": "ipython3",
      "version": "3.8.8"
    },
    "colab": {
      "provenance": [],
      "include_colab_link": true
    }
  },
  "nbformat": 4,
  "nbformat_minor": 5
}