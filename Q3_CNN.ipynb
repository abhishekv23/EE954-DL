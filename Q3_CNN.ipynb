{
  "cells": [
    {
      "cell_type": "markdown",
      "metadata": {
        "id": "view-in-github",
        "colab_type": "text"
      },
      "source": [
        "<a href=\"https://colab.research.google.com/github/abhishekv23/EE954-DL/blob/main/Q3_CNN.ipynb\" target=\"_parent\"><img src=\"https://colab.research.google.com/assets/colab-badge.svg\" alt=\"Open In Colab\"/></a>"
      ]
    },
    {
      "cell_type": "markdown",
      "id": "07b36e45",
      "metadata": {
        "id": "07b36e45"
      },
      "source": [
        "# Implement a CNN backbone model using pytorch. (total 40 marks)"
      ]
    },
    {
      "cell_type": "markdown",
      "id": "35b5d3b5",
      "metadata": {
        "id": "35b5d3b5"
      },
      "source": [
        "### a. Build a small CNN model consisting of\n",
        "- 5 convolution Layers with each layer:\n",
        "1. Convolution layer\n",
        "2. ReLU activation\n",
        "3. Max pooling layer\n",
        "\n",
        "(10 Marks )"
      ]
    },
    {
      "cell_type": "code",
      "execution_count": 5,
      "id": "763d26d0",
      "metadata": {
        "id": "763d26d0"
      },
      "outputs": [],
      "source": [
        "#import libraries\n",
        "import numpy as np\n",
        "import torch\n",
        "import torch.nn as nn\n",
        "import torch.nn.functional as F"
      ]
    },
    {
      "cell_type": "code",
      "execution_count": 6,
      "id": "5b6fc919",
      "metadata": {
        "id": "5b6fc919"
      },
      "outputs": [],
      "source": [
        "from torchvision import datasets\n",
        "from torchvision.transforms import ToTensor, transforms\n",
        "from torch.utils.data import DataLoader, random_split"
      ]
    },
    {
      "cell_type": "code",
      "source": [
        "import matplotlib.pyplot as plt\n",
        "%matplotlib inline"
      ],
      "metadata": {
        "id": "o9ZoOmzGy8wk"
      },
      "id": "o9ZoOmzGy8wk",
      "execution_count": 7,
      "outputs": []
    },
    {
      "cell_type": "code",
      "execution_count": 8,
      "id": "9f9b9a6a",
      "metadata": {
        "id": "9f9b9a6a"
      },
      "outputs": [],
      "source": [
        "def FMNIST_DataLoader():\n",
        "  #load MNIST data\n",
        "  transform = transforms.Compose([\n",
        "    transforms.ToTensor(),\n",
        "    #transforms.Normalize((0.5,), (0.5,))\n",
        "  ])\n",
        "  train_data = datasets.FashionMNIST(root='data', train=True, download=True, transform=transform)\n",
        "\n",
        "  # Spilt the Training and Validation dataset in 80%/20%.\n",
        "  train_size = int(0.8 * len(train_data))\n",
        "  val_size = int(0.2 * len(train_data))\n",
        "  #split the train_data into training and validation dataset.\n",
        "  train_set, val_set = random_split(train_data, [train_size, val_size])\n",
        "\n",
        "  #load test data set\n",
        "  test_data = datasets.FashionMNIST(root='data', train=False, download=True, transform=transform)\n",
        "\n",
        "  train_dataloader = DataLoader(train_set, batch_size=32, shuffle=True)\n",
        "  validation_dataloader = DataLoader(val_set, batch_size=32, shuffle=True)\n",
        "  test_dataloader = DataLoader(test_data, batch_size=32, shuffle=False)\n",
        "  return train_dataloader, validation_dataloader, test_dataloader"
      ]
    },
    {
      "cell_type": "code",
      "execution_count": null,
      "id": "c1f430c9",
      "metadata": {
        "id": "c1f430c9"
      },
      "outputs": [],
      "source": [
        "#DEBUG:: no need to execute\n",
        "print(train_data.train_labels)\n",
        "print(train_data.data[0])\n",
        "train_data.train_data"
      ]
    },
    {
      "cell_type": "code",
      "execution_count": null,
      "id": "56f71308",
      "metadata": {
        "id": "56f71308"
      },
      "outputs": [],
      "source": [
        "#DEBUG:: no need to execute\n",
        "x_train = train_data.data/255\n",
        "x_test = test_data.data/255\n",
        "y_train = train_data.targets\n",
        "y_test = test_data.targets"
      ]
    },
    {
      "cell_type": "code",
      "execution_count": null,
      "id": "3854dd10",
      "metadata": {
        "id": "3854dd10"
      },
      "outputs": [],
      "source": [
        "#DEBUG:: no need to execute\n",
        "(x_train, x_valid) = x_train[10000:], x_train[:10000]\n",
        "(y_train, y_valid) = y_train[10000:], y_train[:10000]\n",
        "y_train"
      ]
    },
    {
      "cell_type": "code",
      "execution_count": null,
      "id": "1018741e",
      "metadata": {
        "id": "1018741e"
      },
      "outputs": [],
      "source": [
        "#DEBUG:: no need to execute\n",
        "a = np.array(y_train)\n",
        "b = np.zeros((a.size, a.max() + 1))\n",
        "b[np.arange(a.size), a] = 1\n",
        "b"
      ]
    },
    {
      "cell_type": "code",
      "execution_count": null,
      "id": "ff0ecdaa",
      "metadata": {
        "id": "ff0ecdaa"
      },
      "outputs": [],
      "source": [
        "#DEBUG:: no need to execute\n",
        "a1 = np.array(y_valid)\n",
        "b1 = np.zeros((a1.size, a1.max() + 1))\n",
        "b1[np.arange(a1.size), a1] = 1\n",
        "y_train = torch.tensor(b)\n",
        "y_valid = torch.tensor(b1)\n",
        "y_valid"
      ]
    },
    {
      "cell_type": "code",
      "execution_count": 9,
      "id": "42a544c8",
      "metadata": {
        "id": "42a544c8"
      },
      "outputs": [],
      "source": [
        "class CNN_Model(nn.Module):\n",
        "\n",
        "    #define init function\n",
        "    def __init__(self):\n",
        "        super(CNN_Model, self).__init__()\n",
        "\n",
        "        #input size: 28\n",
        "        #channel - 1,\n",
        "        #32 - output channel from this layer,\n",
        "        #square kerner of size 2.\n",
        "        #stride defaults to 1 and padding to 0.\n",
        "        self.layer1_conv = nn.Conv2d(1, 32, 2, padding=0)\n",
        "        self.layer1_activ = nn.ReLU()\n",
        "        self.layer1_maxpool = nn.MaxPool2d(2, stride=2) #2x2 kernel\n",
        "\n",
        "        #layer 2, input size\n",
        "        self.layer2_conv = nn.Conv2d(32, 32, 2, padding=0)\n",
        "        self.layer2_activ = nn.ReLU()\n",
        "        self.layer2_maxpool = nn.MaxPool2d(2, stride=2)\n",
        "        #layer 3\n",
        "        self.layer3_conv = nn.Conv2d(32, 32, 2, padding=0)\n",
        "        self.layer3_activ = nn.ReLU()\n",
        "        self.layer3_maxpool = nn.MaxPool2d(2, stride=1) #14x14x64\n",
        "        #layer 4\n",
        "        self.layer4_conv = nn.Conv2d(32, 32, 2, padding=1)\n",
        "        self.layer4_activ = nn.ReLU()\n",
        "        self.layer4_maxpool = nn.MaxPool2d(2, stride=1) #7x7x128\n",
        "        #layer 5\n",
        "        self.layer5_conv = nn.Conv2d(32, 32, 2, padding=1)\n",
        "        self.layer5_activ = nn.ReLU()\n",
        "        self.layer5_maxpool = nn.MaxPool2d(2, stride=1) #4x4x256\n",
        "        #Dense layer, input size=256*\n",
        "\n",
        "        self.dense1 = nn.Linear(512, 20)\n",
        "        #output layer\n",
        "        self.out = nn.Linear(20, 10)\n",
        "\n",
        "    def forward(self, x):\n",
        "\n",
        "        #pass data x through 1st layer\n",
        "        x = self.layer1_conv(x)\n",
        "        #print(f\"shape of data after layer1_conv: {x.shape}\")\n",
        "        x = self.layer1_activ(x)\n",
        "        x = self.layer1_maxpool(x)\n",
        "        #print(f\"shape of data after layer1_maxpool: {x.shape}\")\n",
        "\n",
        "        #pass data through 2nd layer\n",
        "        x = self.layer2_conv(x)\n",
        "        #print(f\"shape of data after layer2_conv: {x.shape}\")\n",
        "        x = self.layer2_activ(x)\n",
        "        x = self.layer2_maxpool(x)\n",
        "        #print(f\"shape of data after layer2_maxpool: {x.shape}\")\n",
        "\n",
        "        #pass data through 3rd layer\n",
        "        x = self.layer3_conv(x)\n",
        "        #print(f\"shape of data after layer3_conv: {x.shape}\")\n",
        "        x = self.layer3_activ(x)\n",
        "        x = self.layer3_maxpool(x)\n",
        "        #print(f\"shape of data after layer3_maxpool: {x.shape}\")\n",
        "\n",
        "        #pass data through 4th layer\n",
        "        x = self.layer4_conv(x)\n",
        "        #print(f\"shape of data after layer4_conv: {x.shape}\")\n",
        "        x = self.layer4_activ(x)\n",
        "        x = self.layer4_maxpool(x)\n",
        "        #print(f\"shape of data after layer4_maxpool: {x.shape}\")\n",
        "\n",
        "        #pass data through 5th layer\n",
        "        x = self.layer5_conv(x)\n",
        "        #print(f\"shape of data after layer5_conv: {x.shape}\")\n",
        "        x = self.layer5_activ(x)\n",
        "        x = self.layer5_maxpool(x)\n",
        "        #print(f\"shape of data after layer5_maxpool: {x.shape}\")\n",
        "        #print(len(x[1]))\n",
        "        #print(len(x[1][1]))\n",
        "        #print(len(x[1][1][1]))\n",
        "\n",
        "        #flatten\n",
        "        x = x.view(-1, 32*4*4)\n",
        "\n",
        "        #x = self.flatten = torch.flatten(x)\n",
        "        #This method will return flattened data that will be passed to Dense layer from Q2\n",
        "        #following 2 lines will be commented after testing.\n",
        "        #print(f\"shape of data after flatten: {x.shape}\")\n",
        "        x = self.dense1(x)\n",
        "        x = self.out(x)\n",
        "        return x"
      ]
    },
    {
      "cell_type": "markdown",
      "source": [
        "**Invoke dense layer NN**"
      ],
      "metadata": {
        "id": "hGruZe63pExn"
      },
      "id": "hGruZe63pExn"
    },
    {
      "cell_type": "code",
      "execution_count": 10,
      "id": "5081fc35",
      "metadata": {
        "id": "5081fc35"
      },
      "outputs": [],
      "source": [
        "#DEBUG:: no need to execute\n",
        "#Returns a tensor filled with random numbers from a uniform distribution on the interval [0, 1)\n",
        "random_data = torch.rand((32, 1, 28, 28))\n",
        "\n",
        "cnn_model = CNN_Model()\n",
        "\n",
        "output_data = cnn_model(random_data)\n",
        "#print (output_data)\n"
      ]
    },
    {
      "cell_type": "code",
      "execution_count": 18,
      "id": "13f88473",
      "metadata": {
        "id": "13f88473",
        "colab": {
          "base_uri": "https://localhost:8080/"
        },
        "outputId": "bf1b8bf8-1125-4b68-ecea-bdc536a6de74"
      },
      "outputs": [
        {
          "output_type": "stream",
          "name": "stdout",
          "text": [
            "layer1_conv.weight 128\n",
            "layer1_conv.bias 32\n",
            "layer2_conv.weight 4096\n",
            "layer2_conv.bias 32\n",
            "layer3_conv.weight 4096\n",
            "layer3_conv.bias 32\n",
            "layer4_conv.weight 4096\n",
            "layer4_conv.bias 32\n",
            "layer5_conv.weight 4096\n",
            "layer5_conv.bias 32\n",
            "dense1.weight 10240\n",
            "dense1.bias 20\n",
            "out.weight 200\n",
            "out.bias 10\n",
            "Total trainable parameters 27142\n"
          ]
        }
      ],
      "source": [
        "#DEBUG:: no need to execute\n",
        "trainable_param = 0\n",
        "\n",
        "for name, param in cnn_model.named_parameters():\n",
        "    print(name, param.numel())\n",
        "    trainable_param += param.numel()\n",
        "\n",
        "print(f\"Total trainable parameters {trainable_param}\")"
      ]
    },
    {
      "cell_type": "code",
      "execution_count": null,
      "id": "96a22562",
      "metadata": {
        "id": "96a22562"
      },
      "outputs": [],
      "source": [
        "#DEBUG:: no need to execute\n",
        "for name, param in cnn_model.named_parameters():\n",
        "    print(f\"Layer: {name} | Size: {param.size()} | Values : {param[:2]} \\n\")"
      ]
    },
    {
      "cell_type": "markdown",
      "id": "3fb40cba",
      "metadata": {
        "id": "3fb40cba"
      },
      "source": [
        "### b. Experiment with different kernel size, number of kernel each layer (10 Marks)\n",
        "(keep number of filter same in each layer, double it in each layer etc) and settle with a combination which performs the best for the given problem."
      ]
    },
    {
      "cell_type": "code",
      "execution_count": 18,
      "id": "f13a7db3",
      "metadata": {
        "id": "f13a7db3"
      },
      "outputs": [],
      "source": [
        "#Train the model\n",
        "def cnn_model_train(train_dataloader, cnn_model, loss_func, optimizer):\n",
        "    train_data_size = len(train_dataloader.dataset)\n",
        "    num_batches = len(train_dataloader)\n",
        "    batch_size = 32\n",
        "    train_losses = 0\n",
        "    train_correct = 0\n",
        "\n",
        "    #set the model to training mode\n",
        "    cnn_model.train()\n",
        "\n",
        "    train_c = 0\n",
        "\n",
        "    for batch, (x_train, y_train) in enumerate(train_dataloader):\n",
        "      #print(f\"Training Batch#::{batch}\")\n",
        "      batch = batch+1\n",
        "      y_predict = cnn_model(x_train)\n",
        "      loss = loss_func(y_predict, y_train)\n",
        "\n",
        "      #backpropagate the prediction loss\n",
        "      loss.backward()\n",
        "      #adjust the parameters\n",
        "      optimizer.step()\n",
        "      #to reset the gradients of model parameters. Gradients by default add up;\n",
        "      #to prevent double-counting, we explicitly zero them at each iteration.\n",
        "      optimizer.zero_grad()\n",
        "\n",
        "      loss = loss.item()\n",
        "      #printout training metrics after batch of 100\n",
        "      if batch % 500 ==0:\n",
        "        loss, current = loss, batch * batch_size + len(x_train)\n",
        "        print(f\"Training loss: {loss:>2f}  [{current:>5d}/{train_data_size:>5d}]\")\n",
        "\n",
        "      train_losses += loss\n",
        "    train_losses /=num_batches\n",
        "    return train_losses, train_correct"
      ]
    },
    {
      "cell_type": "code",
      "execution_count": 29,
      "id": "114ab6ae",
      "metadata": {
        "id": "114ab6ae"
      },
      "outputs": [],
      "source": [
        "#Test the model\n",
        "def cnn_model_test(dataloader, cnn_model, loss_func):\n",
        "    #set the model to evaluation (important for BN and Dropout layers)\n",
        "    cnn_model.eval()\n",
        "    num_batches = len(dataloader)\n",
        "\n",
        "    #initialize\n",
        "    valid_losses = 0\n",
        "    accuracy = 0\n",
        "    #ensure that no grad are computed during test mode\n",
        "    with torch.no_grad():\n",
        "        for batch, (x_valid, y_valid) in enumerate(dataloader):\n",
        "          #print(f\"Validation Batch#::{batch}\")\n",
        "          batch = batch+1\n",
        "          predict = cnn_model(x_valid)\n",
        "          #print(f\"predict::{predict}\")\n",
        "          #print(f\"y_valid::{y_valid}\")\n",
        "          #print(f\"predict.argmax(1)::{predict.argmax(1)}\")\n",
        "          #collect values for accuracy measurement\n",
        "          accuracy += (predict.argmax(1) == y_valid).type(torch.float).sum().item()\n",
        "          print(f\"Accuracy::{accuracy}\")\n",
        "          valid_loss = loss_func(predict, y_valid)\n",
        "          valid_loss = valid_loss.item()\n",
        "          if batch % 500 ==0:\n",
        "            #valid_loss = valid_loss/num_batches\n",
        "            print(f\"Validation loss: {valid_loss}\")\n",
        "\n",
        "          valid_losses += valid_loss\n",
        "    valid_losses /=  num_batches\n",
        "    accuracy /= len(dataloader.dataset)\n",
        "    return valid_losses, accuracy"
      ]
    },
    {
      "cell_type": "code",
      "source": [
        "# Plot training and validation loss\n",
        "def plot_losses(train_loss, valid_loss, test_accuracy):\n",
        "  fig,ax = plt.subplots(1,2,figsize=(16,5))\n",
        "\n",
        "  ax[0].plot(train_loss,'s-',label='Training')\n",
        "  ax[0].plot(valid_loss,'o-',label='Validation')\n",
        "  ax[0].set_xlabel('Epochs')\n",
        "  ax[0].set_ylabel('Loss')\n",
        "  ax[0].set_title('Model loss')\n",
        "  ax[0].legend()\n",
        "\n",
        "  ax[1].plot(test_accuracy,'x-',label='Model Accuracy')\n",
        "  ax[1].set_xlabel('Epochs')\n",
        "  ax[1].set_ylabel('Accuracy')\n",
        "  ax[1].set_title('Model Accuracy')\n",
        "  ax[1].legend()\n",
        "  plt.show()"
      ],
      "metadata": {
        "id": "2Di5_4iHozbv"
      },
      "id": "2Di5_4iHozbv",
      "execution_count": 32,
      "outputs": []
    },
    {
      "cell_type": "code",
      "execution_count": 14,
      "id": "8b36deaf",
      "metadata": {
        "scrolled": false,
        "id": "8b36deaf",
        "colab": {
          "base_uri": "https://localhost:8080/"
        },
        "outputId": "6e4e921f-cdec-43e2-90ae-db7702e64625"
      },
      "outputs": [
        {
          "output_type": "stream",
          "name": "stdout",
          "text": [
            "Downloading http://fashion-mnist.s3-website.eu-central-1.amazonaws.com/train-images-idx3-ubyte.gz\n",
            "Downloading http://fashion-mnist.s3-website.eu-central-1.amazonaws.com/train-images-idx3-ubyte.gz to data/FashionMNIST/raw/train-images-idx3-ubyte.gz\n"
          ]
        },
        {
          "output_type": "stream",
          "name": "stderr",
          "text": [
            "100%|██████████| 26421880/26421880 [00:01<00:00, 18343470.28it/s]\n"
          ]
        },
        {
          "output_type": "stream",
          "name": "stdout",
          "text": [
            "Extracting data/FashionMNIST/raw/train-images-idx3-ubyte.gz to data/FashionMNIST/raw\n",
            "\n",
            "Downloading http://fashion-mnist.s3-website.eu-central-1.amazonaws.com/train-labels-idx1-ubyte.gz\n",
            "Downloading http://fashion-mnist.s3-website.eu-central-1.amazonaws.com/train-labels-idx1-ubyte.gz to data/FashionMNIST/raw/train-labels-idx1-ubyte.gz\n"
          ]
        },
        {
          "output_type": "stream",
          "name": "stderr",
          "text": [
            "100%|██████████| 29515/29515 [00:00<00:00, 308609.98it/s]\n"
          ]
        },
        {
          "output_type": "stream",
          "name": "stdout",
          "text": [
            "Extracting data/FashionMNIST/raw/train-labels-idx1-ubyte.gz to data/FashionMNIST/raw\n",
            "\n",
            "Downloading http://fashion-mnist.s3-website.eu-central-1.amazonaws.com/t10k-images-idx3-ubyte.gz\n",
            "Downloading http://fashion-mnist.s3-website.eu-central-1.amazonaws.com/t10k-images-idx3-ubyte.gz to data/FashionMNIST/raw/t10k-images-idx3-ubyte.gz\n"
          ]
        },
        {
          "output_type": "stream",
          "name": "stderr",
          "text": [
            "100%|██████████| 4422102/4422102 [00:02<00:00, 2094875.97it/s]\n"
          ]
        },
        {
          "output_type": "stream",
          "name": "stdout",
          "text": [
            "Extracting data/FashionMNIST/raw/t10k-images-idx3-ubyte.gz to data/FashionMNIST/raw\n",
            "\n",
            "Downloading http://fashion-mnist.s3-website.eu-central-1.amazonaws.com/t10k-labels-idx1-ubyte.gz\n",
            "Downloading http://fashion-mnist.s3-website.eu-central-1.amazonaws.com/t10k-labels-idx1-ubyte.gz to data/FashionMNIST/raw/t10k-labels-idx1-ubyte.gz\n"
          ]
        },
        {
          "output_type": "stream",
          "name": "stderr",
          "text": [
            "100%|██████████| 5148/5148 [00:00<00:00, 14366119.09it/s]"
          ]
        },
        {
          "output_type": "stream",
          "name": "stdout",
          "text": [
            "Extracting data/FashionMNIST/raw/t10k-labels-idx1-ubyte.gz to data/FashionMNIST/raw\n",
            "\n"
          ]
        },
        {
          "output_type": "stream",
          "name": "stderr",
          "text": [
            "\n"
          ]
        }
      ],
      "source": [
        "train_dataloader, validation_dataloader, test_dataloader = FMNIST_DataLoader()\n",
        "loss_func = nn.CrossEntropyLoss()"
      ]
    },
    {
      "cell_type": "markdown",
      "id": "16347005",
      "metadata": {
        "id": "16347005"
      },
      "source": [
        "### c. Try different weight initialization methods (random, Xavier, He) (5 Marks)"
      ]
    },
    {
      "cell_type": "code",
      "source": [
        "#instantiate the model\n",
        "cnn_model_xavier = CNN_Model()\n",
        "for param in cnn_model_xavier.named_parameters():\n",
        "    print(\"PARAM0:\",param[0])\n",
        "    print(\"PARAM1:\",param[1])\n",
        "    if 'weight' in param[0]:\n",
        "        torch.nn.init.xavier_normal_(param[1].data)\n",
        "\n",
        "# Train new instance of the model\n",
        "\n",
        "# Test the new instance of the model\n"
      ],
      "metadata": {
        "id": "B--omnNJdASZ"
      },
      "id": "B--omnNJdASZ",
      "execution_count": null,
      "outputs": []
    },
    {
      "cell_type": "code",
      "source": [],
      "metadata": {
        "id": "KbHGCeFrl_MS"
      },
      "id": "KbHGCeFrl_MS",
      "execution_count": null,
      "outputs": []
    },
    {
      "cell_type": "markdown",
      "source": [
        "## initialize the weights using He algorithms, also called as Kaiming\n"
      ],
      "metadata": {
        "id": "xQhCE0N_mCur"
      },
      "id": "xQhCE0N_mCur"
    },
    {
      "cell_type": "code",
      "source": [
        "#instantiate the model\n",
        "cnn_model_he = CNN_Model()\n",
        "for param in cnn_model_he.named_parameters():\n",
        "    #print(\"PARAM0:\",param[0])\n",
        "    #print(\"PARAM1:\",param[1])\n",
        "    if 'weight' in param[0]:\n",
        "        #Parameter initialization logic\n",
        "        torch.nn.init.kaiming_normal_(param[1].data)\n",
        "\n",
        "# Train new instance of the model\n",
        "\n",
        "# Test the new instance of the model\n"
      ],
      "metadata": {
        "id": "sf9b3OSpl_Oi"
      },
      "id": "sf9b3OSpl_Oi",
      "execution_count": null,
      "outputs": []
    },
    {
      "cell_type": "markdown",
      "source": [
        "## Random initialization of weights"
      ],
      "metadata": {
        "id": "FuDX2vCTm2h1"
      },
      "id": "FuDX2vCTm2h1"
    },
    {
      "cell_type": "code",
      "execution_count": null,
      "id": "ab435fd5",
      "metadata": {
        "id": "ab435fd5"
      },
      "outputs": [],
      "source": [
        "#start the training and validation loop\n",
        "epochs = 20\n",
        "cnn_model = CNN_Model()\n",
        "#Initialize Optimizer and Loss function\n",
        "optimizer = torch.optim.Adam(cnn_model.parameters(), lr=0.0005)\n",
        "train_loss_arr = []\n",
        "valid_loss_ar = []\n",
        "valid_acc = []\n",
        "test_accuracy = []\n",
        "for e in range(epochs):\n",
        "  train_loss, _ = cnn_model_train(train_dataloader, cnn_model, loss_func, optimizer)\n",
        "  valid_loss, valid_acc = cnn_model_test(validation_dataloader, cnn_model, loss_func)\n",
        "  test_loss, test_acc = cnn_model_test(test_dataloader, cnn_model, loss_func)\n",
        "  test_accuracy.append(test_acc)\n",
        "  train_loss_arr.append(train_loss)\n",
        "  valid_loss_ar.append(valid_loss)"
      ]
    },
    {
      "cell_type": "markdown",
      "id": "3a97a475",
      "metadata": {
        "id": "3a97a475"
      },
      "source": [
        "### d. After extracting feature from CNN model use MLP for classification (15 Marks)"
      ]
    },
    {
      "cell_type": "code",
      "source": [
        "#plot losses and model accuracy\n",
        "plot_losses(train_loss_arr, valid_loss_ar, test_accuracy)"
      ],
      "metadata": {
        "colab": {
          "base_uri": "https://localhost:8080/",
          "height": 487
        },
        "id": "n2xaomqksY0M",
        "outputId": "f9de5900-125c-4878-a0c0-abd10befadcf"
      },
      "id": "n2xaomqksY0M",
      "execution_count": 33,
      "outputs": [
        {
          "output_type": "display_data",
          "data": {
            "text/plain": [
              "<Figure size 1600x500 with 2 Axes>"
            ],
            "image/png": "[encoded data removed]"
          },
          "metadata": {}
        }
      ]
    },
    {
      "cell_type": "code",
      "source": [
        "print(test_accuracy)"
      ],
      "metadata": {
        "colab": {
          "base_uri": "https://localhost:8080/"
        },
        "id": "S6q7bdjR_eyK",
        "outputId": "945f83e3-e44b-46db-ca8c-6512227aa608"
      },
      "id": "S6q7bdjR_eyK",
      "execution_count": 24,
      "outputs": [
        {
          "output_type": "stream",
          "name": "stdout",
          "text": [
            "[0.897, 0.897, 0.897, 0.897, 0.897, 0.897, 0.897, 0.897, 0.897, 0.897, 0.897, 0.897, 0.897, 0.897, 0.897, 0.897, 0.897, 0.897, 0.897, 0.897]\n"
          ]
        }
      ]
    },
    {
      "cell_type": "code",
      "source": [],
      "metadata": {
        "id": "LvJ1sLsTAmi4"
      },
      "id": "LvJ1sLsTAmi4",
      "execution_count": null,
      "outputs": []
    }
  ],
  "metadata": {
    "kernelspec": {
      "display_name": "Python 3 (ipykernel)",
      "language": "python",
      "name": "python3"
    },
    "language_info": {
      "codemirror_mode": {
        "name": "ipython",
        "version": 3
      },
      "file_extension": ".py",
      "mimetype": "text/x-python",
      "name": "python",
      "nbconvert_exporter": "python",
      "pygments_lexer": "ipython3",
      "version": "3.8.8"
    },
    "colab": {
      "provenance": [],
      "include_colab_link": true
    }
  },
  "nbformat": 4,
  "nbformat_minor": 5
}